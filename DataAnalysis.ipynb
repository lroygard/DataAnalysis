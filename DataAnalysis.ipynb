{
 "cells": [
  {
   "cell_type": "markdown",
   "id": "b595bf87",
   "metadata": {},
   "source": [
    "# Data Analysis Assignment 2"
   ]
  },
  {
   "cell_type": "markdown",
   "id": "d6d79b07",
   "metadata": {},
   "source": [
    "## Part One: Exploring Data and Testing Hypotheses: Uncovering Insights from Dataset"
   ]
  },
  {
   "cell_type": "code",
   "execution_count": 2,
   "id": "2951971f",
   "metadata": {},
   "outputs": [],
   "source": [
    "# Imports\n",
    "import pandas as pd\n",
    "import numpy as np"
   ]
  },
  {
   "cell_type": "markdown",
   "id": "a8dec79a",
   "metadata": {},
   "source": [
    "### Task 1: Data Preparation and Exploration (5 marks)"
   ]
  },
  {
   "cell_type": "code",
   "execution_count": 13,
   "id": "d7dbef94",
   "metadata": {},
   "outputs": [],
   "source": [
    "# Read CSV\n",
    "df = pd.read_csv(\"Employee_Performance.csv\")"
   ]
  },
  {
   "cell_type": "code",
   "execution_count": 14,
   "id": "bda5fa73",
   "metadata": {},
   "outputs": [
    {
     "data": {
      "text/html": [
       "<div>\n",
       "<style scoped>\n",
       "    .dataframe tbody tr th:only-of-type {\n",
       "        vertical-align: middle;\n",
       "    }\n",
       "\n",
       "    .dataframe tbody tr th {\n",
       "        vertical-align: top;\n",
       "    }\n",
       "\n",
       "    .dataframe thead th {\n",
       "        text-align: right;\n",
       "    }\n",
       "</style>\n",
       "<table border=\"1\" class=\"dataframe\">\n",
       "  <thead>\n",
       "    <tr style=\"text-align: right;\">\n",
       "      <th></th>\n",
       "      <th>EmployeeID</th>\n",
       "      <th>Department</th>\n",
       "      <th>Gender</th>\n",
       "      <th>Experience</th>\n",
       "      <th>TrainingHours</th>\n",
       "      <th>PerformanceRating</th>\n",
       "      <th>Salary</th>\n",
       "    </tr>\n",
       "  </thead>\n",
       "  <tbody>\n",
       "    <tr>\n",
       "      <th>0</th>\n",
       "      <td>1001</td>\n",
       "      <td>IT</td>\n",
       "      <td>Male</td>\n",
       "      <td>4</td>\n",
       "      <td>5</td>\n",
       "      <td>1.00</td>\n",
       "      <td>19000</td>\n",
       "    </tr>\n",
       "    <tr>\n",
       "      <th>1</th>\n",
       "      <td>1002</td>\n",
       "      <td>Marketing</td>\n",
       "      <td>Female</td>\n",
       "      <td>0</td>\n",
       "      <td>50</td>\n",
       "      <td>5.50</td>\n",
       "      <td>6900</td>\n",
       "    </tr>\n",
       "    <tr>\n",
       "      <th>2</th>\n",
       "      <td>1003</td>\n",
       "      <td>Sales</td>\n",
       "      <td>Male</td>\n",
       "      <td>0</td>\n",
       "      <td>5</td>\n",
       "      <td>1.00</td>\n",
       "      <td>6000</td>\n",
       "    </tr>\n",
       "    <tr>\n",
       "      <th>3</th>\n",
       "      <td>1004</td>\n",
       "      <td>HR</td>\n",
       "      <td>Male</td>\n",
       "      <td>1</td>\n",
       "      <td>5</td>\n",
       "      <td>1.00</td>\n",
       "      <td>6000</td>\n",
       "    </tr>\n",
       "    <tr>\n",
       "      <th>4</th>\n",
       "      <td>1005</td>\n",
       "      <td>HR</td>\n",
       "      <td>Female</td>\n",
       "      <td>9</td>\n",
       "      <td>5</td>\n",
       "      <td>1.04</td>\n",
       "      <td>38000</td>\n",
       "    </tr>\n",
       "  </tbody>\n",
       "</table>\n",
       "</div>"
      ],
      "text/plain": [
       "   EmployeeID Department  Gender  Experience  TrainingHours  \\\n",
       "0        1001         IT    Male           4              5   \n",
       "1        1002  Marketing  Female           0             50   \n",
       "2        1003      Sales    Male           0              5   \n",
       "3        1004         HR    Male           1              5   \n",
       "4        1005         HR  Female           9              5   \n",
       "\n",
       "   PerformanceRating  Salary  \n",
       "0               1.00   19000  \n",
       "1               5.50    6900  \n",
       "2               1.00    6000  \n",
       "3               1.00    6000  \n",
       "4               1.04   38000  "
      ]
     },
     "execution_count": 14,
     "metadata": {},
     "output_type": "execute_result"
    }
   ],
   "source": [
    "df.head()"
   ]
  },
  {
   "cell_type": "markdown",
   "id": "aeca75c9",
   "metadata": {},
   "source": [
    "### Task 2: Assumptions, and Hypothesis Formulation (10 Marks)"
   ]
  },
  {
   "cell_type": "code",
   "execution_count": null,
   "id": "7ab0ac0c",
   "metadata": {},
   "outputs": [],
   "source": []
  },
  {
   "cell_type": "markdown",
   "id": "908796f4",
   "metadata": {},
   "source": [
    "### Task 3: Statistical Technique: Hypothesis Testing (20 marks)"
   ]
  },
  {
   "cell_type": "code",
   "execution_count": null,
   "id": "059c548b",
   "metadata": {},
   "outputs": [],
   "source": []
  },
  {
   "cell_type": "markdown",
   "id": "36f78cab",
   "metadata": {},
   "source": [
    "### Task 4: Discussion and Conclusion (10 marks)"
   ]
  },
  {
   "cell_type": "code",
   "execution_count": null,
   "id": "0a9883e7",
   "metadata": {},
   "outputs": [],
   "source": []
  },
  {
   "cell_type": "markdown",
   "id": "30bcff8f",
   "metadata": {},
   "source": [
    "## Part Two: Regression Analysis"
   ]
  },
  {
   "cell_type": "code",
   "execution_count": null,
   "id": "c9aec493",
   "metadata": {},
   "outputs": [],
   "source": []
  },
  {
   "cell_type": "markdown",
   "id": "288dfbbd",
   "metadata": {},
   "source": [
    "### Task 1: Identify Potential Predictor Variables (5 marks)"
   ]
  },
  {
   "cell_type": "code",
   "execution_count": null,
   "id": "5ffdd933",
   "metadata": {},
   "outputs": [],
   "source": []
  },
  {
   "cell_type": "markdown",
   "id": "eef6f2a3",
   "metadata": {},
   "source": [
    "### Task 2: Assumptions for Regression Analysis (10 marks)"
   ]
  },
  {
   "cell_type": "code",
   "execution_count": null,
   "id": "7f1d5905",
   "metadata": {},
   "outputs": [],
   "source": []
  },
  {
   "cell_type": "markdown",
   "id": "62a510e0",
   "metadata": {},
   "source": [
    "### Task 3: Regression Analysis (10 marks)"
   ]
  },
  {
   "cell_type": "code",
   "execution_count": null,
   "id": "515554e5",
   "metadata": {},
   "outputs": [],
   "source": []
  },
  {
   "cell_type": "markdown",
   "id": "062e4e84",
   "metadata": {},
   "source": [
    "### Task 4: Assumptions of Linear Regression (10 marks)"
   ]
  },
  {
   "cell_type": "code",
   "execution_count": null,
   "id": "1bf87fb0",
   "metadata": {},
   "outputs": [],
   "source": []
  },
  {
   "cell_type": "markdown",
   "id": "4d3b48dd",
   "metadata": {},
   "source": [
    "### Task 5: Discussion and Conclusion (10 marks)"
   ]
  },
  {
   "cell_type": "code",
   "execution_count": null,
   "id": "b1f18079",
   "metadata": {},
   "outputs": [],
   "source": []
  }
 ],
 "metadata": {
  "kernelspec": {
   "display_name": "Python 3 (ipykernel)",
   "language": "python",
   "name": "python3"
  },
  "language_info": {
   "codemirror_mode": {
    "name": "ipython",
    "version": 3
   },
   "file_extension": ".py",
   "mimetype": "text/x-python",
   "name": "python",
   "nbconvert_exporter": "python",
   "pygments_lexer": "ipython3",
   "version": "3.11.3"
  }
 },
 "nbformat": 4,
 "nbformat_minor": 5
}
