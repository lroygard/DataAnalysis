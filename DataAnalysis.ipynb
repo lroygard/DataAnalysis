{
 "cells": [
  {
   "cell_type": "markdown",
   "id": "05dd1be3",
   "metadata": {},
   "source": [
    "## Part One: Exploring Data and Testing Hypotheses: Uncovering Insights from Dataset"
   ]
  },
  {
   "cell_type": "code",
   "execution_count": null,
   "id": "422aabc8",
   "metadata": {},
   "outputs": [],
   "source": []
  },
  {
   "cell_type": "markdown",
   "id": "45d5d6ab",
   "metadata": {},
   "source": [
    "### Task 1: Data Preparation and Exploration (5 marks)"
   ]
  },
  {
   "cell_type": "code",
   "execution_count": null,
   "id": "03cecad7",
   "metadata": {},
   "outputs": [],
   "source": []
  },
  {
   "cell_type": "markdown",
   "id": "945de7ad",
   "metadata": {},
   "source": [
    "## Task 2: Assumptions, and Hypothesis Formulation (10 Marks)"
   ]
  },
  {
   "cell_type": "code",
   "execution_count": null,
   "id": "327558b1",
   "metadata": {},
   "outputs": [],
   "source": []
  },
  {
   "cell_type": "markdown",
   "id": "314807dc",
   "metadata": {},
   "source": [
    "## Task 3: Statistical Technique: Hypothesis Testing (20 marks)"
   ]
  },
  {
   "cell_type": "code",
   "execution_count": null,
   "id": "cdda7222",
   "metadata": {},
   "outputs": [],
   "source": []
  },
  {
   "cell_type": "markdown",
   "id": "a1e762d9",
   "metadata": {},
   "source": [
    "## Task 4: Discussion and Conclusion (10 marks)"
   ]
  },
  {
   "cell_type": "code",
   "execution_count": null,
   "id": "7526a0cf",
   "metadata": {},
   "outputs": [],
   "source": []
  },
  {
   "cell_type": "markdown",
   "id": "7402cbe1",
   "metadata": {},
   "source": [
    "# Part Two: Regression Analysis"
   ]
  },
  {
   "cell_type": "code",
   "execution_count": null,
   "id": "8339f66f",
   "metadata": {},
   "outputs": [],
   "source": []
  },
  {
   "cell_type": "markdown",
   "id": "0f49e52c",
   "metadata": {},
   "source": [
    "## Task 1: Identify Potential Predictor Variables (5 marks)"
   ]
  },
  {
   "cell_type": "code",
   "execution_count": null,
   "id": "2b23fd3c",
   "metadata": {},
   "outputs": [],
   "source": []
  },
  {
   "cell_type": "markdown",
   "id": "597dbbad",
   "metadata": {},
   "source": [
    "## Task 2: Assumptions for Regression Analysis (10 marks)"
   ]
  },
  {
   "cell_type": "code",
   "execution_count": null,
   "id": "d3740e39",
   "metadata": {},
   "outputs": [],
   "source": []
  },
  {
   "cell_type": "markdown",
   "id": "3e9c0434",
   "metadata": {},
   "source": [
    "## Task 3: Regression Analysis (10 marks)"
   ]
  },
  {
   "cell_type": "code",
   "execution_count": null,
   "id": "90dab0c7",
   "metadata": {},
   "outputs": [],
   "source": []
  },
  {
   "cell_type": "markdown",
   "id": "72feba5a",
   "metadata": {},
   "source": [
    "## Task 4: Assumptions of Linear Regression (10 marks)"
   ]
  },
  {
   "cell_type": "code",
   "execution_count": null,
   "id": "bcffdc5b",
   "metadata": {},
   "outputs": [],
   "source": []
  },
  {
   "cell_type": "markdown",
   "id": "9e4fa02e",
   "metadata": {},
   "source": [
    "## Task 5: Discussion and Conclusion (10 marks)"
   ]
  },
  {
   "cell_type": "code",
   "execution_count": null,
   "id": "3ed77146",
   "metadata": {},
   "outputs": [],
   "source": []
  }
 ],
 "metadata": {
  "kernelspec": {
   "display_name": "Python 3 (ipykernel)",
   "language": "python",
   "name": "python3"
  },
  "language_info": {
   "codemirror_mode": {
    "name": "ipython",
    "version": 3
   },
   "file_extension": ".py",
   "mimetype": "text/x-python",
   "name": "python",
   "nbconvert_exporter": "python",
   "pygments_lexer": "ipython3",
   "version": "3.11.3"
  }
 },
 "nbformat": 4,
 "nbformat_minor": 5
}
